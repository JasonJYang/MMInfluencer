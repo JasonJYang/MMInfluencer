{
 "cells": [
  {
   "cell_type": "code",
   "execution_count": null,
   "metadata": {},
   "outputs": [],
   "source": [
    "from openai import OpenAI\n",
    "import base64\n",
    "import os\n",
    "import json\n",
    "import pandas as pd"
   ]
  },
  {
   "cell_type": "code",
   "execution_count": null,
   "metadata": {},
   "outputs": [],
   "source": [
    "client = OpenAI(\n",
    "    api_key=\"xxx\",\n",
    ")"
   ]
  },
  {
   "cell_type": "code",
   "execution_count": null,
   "metadata": {},
   "outputs": [],
   "source": [
    "product_category = ['Tools & Home Improvement', 'Automotive', 'Home & Kitchen', 'Toys & Games', 'Patio, Lawn & Garden', 'Sports & Outdoors','Clothing, Shoes & Jewelry', 'Electronics', 'Arts, Crafts & Sewing', 'Industrial & Scientific', 'Pet Supplies', 'Office Products', 'Musical Instruments', 'Grocery & Gourmet Food', 'Beauty & Personal Care', 'Appliances', 'Health & Household', 'Baby Products', 'Cell Phones & Accessories', 'Video Games', 'CDs & Vinyl']\n",
    "\n",
    "prompt = f'''\n",
    "            The following text and picture were posted by an influencer on Instagram. \n",
    "            Please analyze the product he/she endorses, what brand the product is and what category the product is in, select the category from this list: {product_category}\n",
    "            Output only in json format, for example:\n",
    "            {{\n",
    "                \"nodes\": [\n",
    "                    {{\"name\": \"\", \"attribute\": \"\"}},\n",
    "                ],\n",
    "                \"edges\": [\n",
    "                    {{\"source\": \"\", \"target\": \"\", \"relationship\": \"\"}},\n",
    "                ]\n",
    "\n",
    "            }}\n",
    "            Please identify the attribute from the following categories: 'product_name', 'brand', 'product_category'.\n",
    "            Please identify the relationship from the following categories: 'use_product', 'its_brand', 'product_category'.\n",
    "            If you couldn't infer accurate information, please do not output and proceed to the next picture.\n",
    "            Make sure the target and source of edges match an existing node. \n",
    "            Do not include the markdown triple quotes above and below the JSON, jump straight into it with a curly bracket.\n",
    "            '''"
   ]
  },
  {
   "cell_type": "code",
   "execution_count": null,
   "metadata": {},
   "outputs": [],
   "source": [
    "def encode_image(image_path):\n",
    "    with open(image_path, \"rb\") as image_file:\n",
    "        return base64.b64encode(image_file.read()).decode('utf-8')"
   ]
  },
  {
   "cell_type": "code",
   "execution_count": null,
   "metadata": {},
   "outputs": [],
   "source": [
    "# Make sure encode_image is defined in a previous cell or run the cell that defines it\n",
    "\n",
    "posts_dir = \"\"\n",
    "\n",
    "for user_folder in os.listdir(posts_dir):\n",
    "    user_folder_path = os.path.join(posts_dir, user_folder)\n",
    "\n",
    "    file_pairs = {}\n",
    "\n",
    "    for file in os.listdir(user_folder_path):\n",
    "            file_path = os.path.join(user_folder_path, file)\n",
    "\n",
    "            if file.endswith(\".txt\"):\n",
    "                file_prefix = os.path.splitext(file)[0]\n",
    "                image_file = f\"{file_prefix}.jpg\"\n",
    "                image_path = os.path.join(user_folder_path, image_file)\n",
    "\n",
    "                if os.path.exists(image_path):\n",
    "                    with open(file_path, 'r') as txt_file:\n",
    "                        txt_content = txt_file.read()\n",
    "                    base64_image = encode_image(image_path)\n",
    "\n",
    "                    file_pairs[file_prefix] = {\"txt\": txt_content, \"image\": base64_image}\n",
    "\n",
    "    output_folder_path = os.path.join(\"\", user_folder)\n",
    "    if not os.path.exists(output_folder_path):\n",
    "        os.makedirs(output_folder_path)\n",
    "\n",
    "    for file_prefix, data in file_pairs.items():\n",
    "        txt_content = data[\"txt\"]\n",
    "        base64_image = data[\"image\"]\n",
    "\n",
    "        response  = client.chat.completions.create(\n",
    "            model=\"gpt-4o\",\n",
    "            messages=[\n",
    "                {\"role\": \"system\", \"content\": \"You are a helpful assistant!\"},\n",
    "                {\"role\": \"user\", \"content\": [\n",
    "                    {\"type\": \"text\", \"text\": f\"{prompt}\"},\n",
    "                    {\"type\": \"text\", \"text\": txt_content},\n",
    "                    {\"type\": \"image_url\", \"image_url\": {\n",
    "                                \"url\": f\"data:image/png;base64,{base64_image}\"}\n",
    "                            }\n",
    "                ]}\n",
    "            ],\n",
    "            temperature=0.0,\n",
    "        )\n",
    "        results = response.choices[0].message.content\n",
    "    \n",
    "        output_file = os.path.join(output_folder_path, f\"{file_prefix}.json\")\n",
    "        with open(output_file, \"w\") as f:\n",
    "            json.dump(results, f, indent=4)\n",
    "    \n",
    "    print(f\"Saved data for {user_folder}\")\n",
    "                    "
   ]
  }
 ],
 "metadata": {
  "kernelspec": {
   "display_name": "base",
   "language": "python",
   "name": "python3"
  },
  "language_info": {
   "codemirror_mode": {
    "name": "ipython",
    "version": 3
   },
   "file_extension": ".py",
   "mimetype": "text/x-python",
   "name": "python",
   "nbconvert_exporter": "python",
   "pygments_lexer": "ipython3",
   "version": "3.11.5"
  }
 },
 "nbformat": 4,
 "nbformat_minor": 2
}
