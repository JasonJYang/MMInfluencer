{
 "cells": [
  {
   "cell_type": "code",
   "execution_count": null,
   "metadata": {},
   "outputs": [],
   "source": [
    "from openai import OpenAI\n",
    "import json\n",
    "import time\n",
    "import pandas as pd\n",
    "from tqdm import tqdm"
   ]
  },
  {
   "cell_type": "markdown",
   "metadata": {},
   "source": [
    "# Load data"
   ]
  },
  {
   "cell_type": "code",
   "execution_count": null,
   "metadata": {},
   "outputs": [],
   "source": [
    "data_df = pd.read_csv('..\\\\result\\\\merge_df_10.csv')\n",
    "data_df.columns"
   ]
  },
  {
   "cell_type": "code",
   "execution_count": null,
   "metadata": {},
   "outputs": [],
   "source": [
    "data_df['user_biog'] = 'The biography of ' + data_df['username'] + ' on instagram is ' + data_df['biography'] + '. '\n",
    "data_df['user_5texts'] = 'The texts of first five posts of ' + data_df['username'] + ' on instagram is ' + data_df['text'] + '. '"
   ]
  },
  {
   "cell_type": "markdown",
   "metadata": {},
   "source": [
    "# Use ChatGPT to construct kg "
   ]
  },
  {
   "cell_type": "code",
   "execution_count": null,
   "metadata": {},
   "outputs": [],
   "source": [
    "client = OpenAI(\n",
    "    api_key=\"xxx\",\n",
    ")"
   ]
  },
  {
   "cell_type": "code",
   "execution_count": null,
   "metadata": {},
   "outputs": [],
   "source": [
    "prompt_bio = f\"\"\"\n",
    "            You are an AI expert specializing in knowledge graph creation with the goal of capturing relationships based on a given input or request.\n",
    "            Based on the Instagram user input, including username and biography.\n",
    "            Your task is to create a knowledge graph based on the input. \n",
    "            Output only in json format, including nodes and edges. Make sure the format of json is 100% right.\n",
    "            Nodes must have a name and an attribute. The name is a direct word or phrase from the input. The attribute is the attribute of the node, please identify the attribute from the following categories: 'username', 'location', 'occupation_or_industry', 'interests', 'self_description', 'brand_collaborations', 'product_category'.\n",
    "            Among them, the name of product_category is selected from the following list: ['Tools & Home Improvement', 'Automotive', 'Home & Kitchen', 'Toys & Games', 'Patio, Lawn & Garden', 'Sports & Outdoors','Clothing, Shoes & Jewelry', 'Electronics', 'Arts, Crafts & Sewing', 'Industrial & Scientific', 'Pet Supplies', 'Office Products', 'Musical Instruments', 'Grocery & Gourmet Food', 'Beauty & Personal Care', 'Appliances', 'Health & Household', 'Baby Products', 'Cell Phones & Accessories', 'Video Games', 'CDs & Vinyl'].\n",
    "            Edges must have a relationship, which is a relationship you infer from the input, please identify the relationship from the following categories: 'is_a', 'has_domain_expertise', 'partner', 'target_audience', 'has_brand_association', 'use_product', 'has_interest', 'located_at'.\n",
    "            If there is @ in the text, it is usually followed by the cooperating brand. If there is # in the texts, it is usually a product category, brand name, character tags or other popular tags. Please make your own inference.\n",
    "            Respond only with JSON in a format where we can use py2neo/neoj4 package and feed directly into neoj4; to display a graph on the Neo4j browser.\n",
    "            Make sure the target and source of edges match an existing node. \n",
    "            Do not include the markdown triple quotes above and below the JSON, jump straight into it with a curly bracket.\n",
    "            \"\"\"\n"
   ]
  },
  {
   "cell_type": "markdown",
   "metadata": {},
   "source": [
    "## Use the biography of each user"
   ]
  },
  {
   "cell_type": "code",
   "execution_count": null,
   "metadata": {},
   "outputs": [],
   "source": [
    "json_user_biog = []\n",
    "\n",
    "for text in tqdm(data_df['user_biog']):\n",
    "    chat_completion = client.chat.completions.create(\n",
    "        messages=[\n",
    "            {\n",
    "                \"role\": \"user\",\n",
    "                \"content\": f\"{text}\",\n",
    "                \"response_format\": { \"type\": \"json_object\" }\n",
    "            },\n",
    "            {\n",
    "                \"role\": \"system\",\n",
    "                \"content\": prompt_bio,\n",
    "                \"response_format\": { \"type\": \"json_object\" }\n",
    "            }\n",
    "        ],\n",
    "        model='gpt-3.5-turbo',\n",
    "        temperature = 0,\n",
    "    )\n",
    "    response = chat_completion.choices[0].message.content\n",
    "    json_user_biog.append(response)"
   ]
  },
  {
   "cell_type": "code",
   "execution_count": null,
   "metadata": {},
   "outputs": [],
   "source": [
    "with open('..\\\\result\\\\user_biog.json', 'w') as file:\n",
    "    json.dump(json_user_biog, file)"
   ]
  }
 ],
 "metadata": {
  "kernelspec": {
   "display_name": "base",
   "language": "python",
   "name": "python3"
  },
  "language_info": {
   "codemirror_mode": {
    "name": "ipython",
    "version": 3
   },
   "file_extension": ".py",
   "mimetype": "text/x-python",
   "name": "python",
   "nbconvert_exporter": "python",
   "pygments_lexer": "ipython3",
   "version": "3.11.5"
  }
 },
 "nbformat": 4,
 "nbformat_minor": 2
}
